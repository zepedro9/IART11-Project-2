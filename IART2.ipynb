{
 "cells": [
  {
   "cell_type": "code",
   "execution_count": 4,
   "metadata": {},
   "outputs": [
    {
     "name": "stdout",
     "output_type": "stream",
     "text": [
      "------- TASK A -------\n",
      "\n",
      "Number of tweets:  3834\n",
      "Number of ironic tweets:  1911\n",
      "Number of non-ironic tweets:  1923\n",
      "\n",
      "\n",
      "Number of tweets with \"no\" or \"not\":  291\n",
      "Number of ironic tweets with \"no\" or \"not\":  129\n",
      "Number of non-ironic tweets with \"no\" or \"not\":  162\n"
     ]
    }
   ],
   "source": [
    "import re\n",
    "\n",
    "def readdata(filename):\n",
    "    tweets = []\n",
    "    with open(filename, encoding=\"utf8\") as f:\n",
    "        for line in f:\n",
    "            tweets.append([line.split(\"\t\")[0], line.split(\"\t\")[1], line.split(\"\t\")[2]])\n",
    "    return tweets\n",
    "def getironics(tweets):\n",
    "    ironic_tweets = []\n",
    "    for tweet in tweets:\n",
    "        if tweet[1] == \"1\":\n",
    "            ironic_tweets.append([tweet[0], tweet[2]])\n",
    "    return ironic_tweets\n",
    "def getnonironics(tweets):\n",
    "    non_ironic_tweets = []\n",
    "    for tweet in tweets:\n",
    "        if tweet[1] == \"0\":\n",
    "            non_ironic_tweets.append([tweet[0], tweet[2]])\n",
    "    return non_ironic_tweets\n",
    "\n",
    "tweets = readdata(\"Train Data/train_taskA.txt\")\n",
    "ironic_tweets = getironics(tweets)\n",
    "non_ironic_tweets = getnonironics(tweets)\n",
    "\n",
    "print(\"------- TASK A -------\\n\")\n",
    "print(\"Number of tweets: \", len(tweets))\n",
    "print(\"Number of ironic tweets: \", len(ironic_tweets))\n",
    "print(\"Number of non-ironic tweets: \", len(non_ironic_tweets))\n",
    "print(\"\\n\")\n",
    "print(\"Number of tweets with \\\"no\\\" or \\\"not\\\": \", len([tweet for tweet in tweets if(len(re.findall(\"(([\\W])+no([\\W])+)+|(([\\W])+not([\\W])+)+\", tweet[2])) > 0)]))\n",
    "print(\"Number of ironic tweets with \\\"no\\\" or \\\"not\\\": \", len([tweet for tweet in ironic_tweets if(len(re.findall(\"(([\\W])+no([\\W])+)+|(([\\W])+not([\\W])+)+\", tweet[1])) > 0)]))\n",
    "print(\"Number of non-ironic tweets with \\\"no\\\" or \\\"not\\\": \", len([tweet for tweet in non_ironic_tweets if(len(re.findall(\"(([\\W])+no([\\W])+)+|(([\\W])+not([\\W])+)+\", tweet[1])) > 0)]))\n",
    "\n"
   ]
  },
  {
   "cell_type": "code",
   "execution_count": null,
   "metadata": {},
   "outputs": [],
   "source": []
  },
  {
   "cell_type": "code",
   "execution_count": null,
   "metadata": {},
   "outputs": [],
   "source": []
  }
 ],
 "metadata": {
  "kernelspec": {
   "display_name": "Python 3",
   "language": "python",
   "name": "python3"
  },
  "language_info": {
   "codemirror_mode": {
    "name": "ipython",
    "version": 3
   },
   "file_extension": ".py",
   "mimetype": "text/x-python",
   "name": "python",
   "nbconvert_exporter": "python",
   "pygments_lexer": "ipython3",
   "version": "3.8.5"
  }
 },
 "nbformat": 4,
 "nbformat_minor": 4
}
