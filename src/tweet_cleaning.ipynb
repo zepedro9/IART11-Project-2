{
 "cells": [
  {
   "cell_type": "code",
   "execution_count": 1,
   "metadata": {},
   "outputs": [
    {
     "name": "stdout",
     "output_type": "stream",
     "text": [
      " sweet united nations video time christmas imagine noreligion\n"
     ]
    }
   ],
   "source": [
    "import re\n",
    "import numpy as np\n",
    "from nltk.stem.porter import PorterStemmer\n",
    "from nltk.stem import WordNetLemmatizer\n",
    "from nltk.corpus import stopwords\n",
    "\n",
    "def clean_tweet(old):\n",
    "    new = remove_identifications(old)\n",
    "    new = remove_links(new)\n",
    "    new = convert_lower_case(new)\n",
    "    new = remove_punctuation(new)\n",
    "    new = remove_apostrophe(new)\n",
    "    new = remove_single_characters(new)\n",
    "    new = remove_stop_words(new)\n",
    "    new = stemming(new)\n",
    "    #new = lemmatization(new)\n",
    "    new = remove_punctuation(new)\n",
    "    return str(old)\n",
    "\n",
    "def remove_identifications(old):\n",
    "    new = \" \".join(filter(lambda x: x[0] != '@', old.split()))\n",
    "    return new\n",
    "\n",
    "def remove_links(old):\n",
    "    return re.sub(\"(https?:\\/\\/)?([\\da-z\\.-]+)\\.([a-z\\.]{2,6})([\\/\\w \\.-]*)\", \"\", old)\n",
    "\n",
    "def convert_lower_case(old):\n",
    "    return np.char.lower(old)\n",
    "\n",
    "def remove_punctuation(old):\n",
    "    symbols = \"!\\\"#$%&()*+-./:;<=>?@[\\]^_`{|}~\\n\"\n",
    "    for i in symbols:\n",
    "        old = np.char.replace(old, i, ' ')\n",
    "    return old\n",
    "\n",
    "def remove_apostrophe(old):\n",
    "    return np.char.replace(old, \"'\", \"\")\n",
    "\n",
    "def remove_single_characters(old):\n",
    "    new = \"\"\n",
    "    tmp = str(old).split()\n",
    "    for w in tmp:\n",
    "        if len(w) > 1:\n",
    "            new = new + \" \" + w\n",
    "    return new\n",
    "\n",
    "def remove_stop_words(old):\n",
    "    stop_words = stopwords.words('english')\n",
    "    new = \"\"\n",
    "    for word in old.split():\n",
    "        if word not in stop_words:\n",
    "            new = new + \" \" + word\n",
    "    return new\n",
    "\n",
    "def stemming(old):\n",
    "    ps = PorterStemmer()\n",
    "    new = re.sub('[^a-zA-Z]', ' ', old)\n",
    "    return ps.stem(new)\n",
    "\n",
    "def lemmatization(old):\n",
    "    lm = WordNetLemmatizer()\n",
    "    new = re.sub('[^a-zA-Z]', ' ', old)\n",
    "    return lm.lemmatize(new)"
   ]
  },
  {
   "cell_type": "code",
   "execution_count": null,
   "metadata": {},
   "outputs": [],
   "source": []
  },
  {
   "cell_type": "code",
   "execution_count": null,
   "metadata": {},
   "outputs": [],
   "source": []
  },
  {
   "cell_type": "code",
   "execution_count": null,
   "metadata": {},
   "outputs": [],
   "source": []
  }
 ],
 "metadata": {
  "kernelspec": {
   "display_name": "Python 3",
   "language": "python",
   "name": "python3"
  },
  "language_info": {
   "codemirror_mode": {
    "name": "ipython",
    "version": 3
   },
   "file_extension": ".py",
   "mimetype": "text/x-python",
   "name": "python",
   "nbconvert_exporter": "python",
   "pygments_lexer": "ipython3",
   "version": "3.8.5"
  }
 },
 "nbformat": 4,
 "nbformat_minor": 4
}
