{
 "cells": [
  {
   "cell_type": "code",
   "execution_count": 1,
   "metadata": {},
   "outputs": [],
   "source": [
    "import pandas as pd\n",
    "import re\n",
    "from sklearn.feature_extraction.text import CountVectorizer\n",
    "from sklearn.model_selection import train_test_split\n",
    "from sklearn.neural_network import MLPClassifier\n",
    "from sklearn.metrics import confusion_matrix\n",
    "from sklearn.metrics import accuracy_score\n",
    "from sklearn.metrics import precision_score\n",
    "from sklearn.metrics import recall_score\n",
    "from sklearn.metrics import f1_score\n",
    "from nltk.stem.porter import PorterStemmer\n",
    "\n",
    "\n",
    "def neural_network_stats(tweets, scores):\n",
    "    df = pd.DataFrame({'tweet': tweets,\n",
    "                       'score': target})\n",
    "\n",
    "    vectorizer = CountVectorizer(max_features=1000)\n",
    "    X = vectorizer.fit_transform(df.tweet).toarray()\n",
    "    y = df.score\n",
    "\n",
    "    X_train, X_test, y_train, y_test = train_test_split(x, y, test_size=0.15, random_state=0)\n",
    "\n",
    "    classifier = MLPClassifier(random_state=1, max_iter=1000, verbose=True).fit(x_train, y_train)\n",
    "    \n",
    "    y_predicted = classifier.predict(x_test)\n",
    "\n",
    "    print(confusion_matrix(y_test, y_predicted))\n",
    "    print('Accuracy: ', accuracy_score(y_test, y_predicted))\n",
    "    print('Precision: ', precision_score(y_test, y_predicted, average='weighted', zero_division=1))\n",
    "    print('Recall: ', recall_score(y_test, y_predicted, average='weighted'))\n",
    "    print('F1: ', f1_score(y_test, y_predicted, average='weighted'))\n",
    "\n",
    "\n",
    "def neural_network_single_tweet(tweets, target):\n",
    "    df = pd.DataFrame({'tweet': tweets,\n",
    "                       'score': target})\n",
    "\n",
    "    vectorizer = CountVectorizer(max_features=1000)\n",
    "    x = vectorizer.fit_transform(df.tweet).toarray()\n",
    "    y = df.score\n",
    "\n",
    "    x_train, x_test, y_train, y_test = train_test_split(x, y, random_state=0)\n",
    "\n",
    "    classifier = MLPClassifier().fit(x_train, y_train)\n",
    "\n",
    "    ps = PorterStemmer()\n",
    "    tweet = input(\"Tweet: \")\n",
    "    tweet = re.sub('[^a-zA-Z]', ' ', tweet).split()\n",
    "    tweet = ' '.join([ps.stem(w) for w in tweet])\n",
    "    x = vectorizer.transform([tweet]).toarray()\n",
    "\n",
    "    result = classifier.predict(x)\n",
    "\n",
    "    print(\"From 0 to 1, 0 being 'non-ironic' and 1 'ironic', you tweet scored \", result)"
   ]
  },
  {
   "cell_type": "code",
   "execution_count": null,
   "metadata": {},
   "outputs": [],
   "source": []
  },
  {
   "cell_type": "code",
   "execution_count": null,
   "metadata": {},
   "outputs": [],
   "source": []
  }
 ],
 "metadata": {
  "kernelspec": {
   "display_name": "Python 3",
   "language": "python",
   "name": "python3"
  },
  "language_info": {
   "codemirror_mode": {
    "name": "ipython",
    "version": 3
   },
   "file_extension": ".py",
   "mimetype": "text/x-python",
   "name": "python",
   "nbconvert_exporter": "python",
   "pygments_lexer": "ipython3",
   "version": "3.8.5"
  }
 },
 "nbformat": 4,
 "nbformat_minor": 5
}
