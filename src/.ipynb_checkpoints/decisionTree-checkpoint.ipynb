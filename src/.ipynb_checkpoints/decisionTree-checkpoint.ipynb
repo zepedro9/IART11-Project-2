{
 "cells": [
  {
   "cell_type": "code",
   "execution_count": 1,
   "metadata": {},
   "outputs": [],
   "source": [
    "import re\n",
    "import pandas as pd\n",
    "from sklearn.feature_extraction.text import CountVectorizer\n",
    "from sklearn.metrics import accuracy_score, confusion_matrix, precision_score, recall_score, f1_score\n",
    "from sklearn.model_selection import train_test_split\n",
    "from sklearn.tree import DecisionTreeClassifier\n",
    "from nltk.stem.porter import PorterStemmer\n",
    "\n",
    "\n",
    "def decisionTree(inputs, scores):\n",
    "    df = pd.DataFrame({'tweet': inputs,\n",
    "                       'score': scores})\n",
    "\n",
    "    vectorizer = CountVectorizer(max_features=1000)\n",
    "    X = vectorizer.fit_transform(df.tweet).toarray()\n",
    "    y = df.score\n",
    "\n",
    "    X_train, X_test, y_train, y_test = train_test_split(X, y, test_size=0.2, random_state=324)\n",
    "\n",
    "    classifier = DecisionTreeClassifier(max_leaf_nodes=600, random_state=0)\n",
    "    classifier.fit(X_train, y_train)\n",
    "    print(classifier.score(X_train, y_train))\n",
    "\n",
    "    y_predicted = classifier.predict(X_test)\n",
    "\n",
    "    print(confusion_matrix(y_test, y_predicted))\n",
    "    print('Accuracy: ', accuracy_score(y_test, y_predicted))\n",
    "    print('Precision: ', precision_score(y_test, y_predicted, average='weighted', zero_division=1))\n",
    "    print('Recall: ', recall_score(y_test, y_predicted, average='weighted', zero_division=1))\n",
    "    print('F1: ', f1_score(y_test, y_predicted, average='weighted'))\n",
    "\n",
    "\n",
    "def decisionTreeAsking(inputs, scores):\n",
    "    df = pd.DataFrame({'tweet': inputs,\n",
    "                       'score': scores})\n",
    "\n",
    "    vectorizer = CountVectorizer(max_features=1000)\n",
    "    X = vectorizer.fit_transform(df.tweet).toarray()\n",
    "    y = df.score\n",
    "\n",
    "    X_train, X_test, y_train, y_test = train_test_split(X, y, test_size=0.2, random_state=324)\n",
    "\n",
    "    classifier = DecisionTreeClassifier(max_leaf_nodes=600, random_state=0)\n",
    "    classifier.fit(X_train, y_train)\n",
    "\n",
    "    y_predicted = classifier.predict(X_test)\n",
    "\n",
    "    ps = PorterStemmer()\n",
    "    tweet = input(\"Tweet: \")\n",
    "    tweet = re.sub('[^a-zA-Z]', ' ', tweet).split()\n",
    "    tweet = ' '.join([ps.stem(w) for w in tweet])\n",
    "    X = vectorizer.transform([tweet]).toarray()\n",
    "\n",
    "    result = classifier.predict(X)\n",
    "\n",
    "    print(\"From 0 to 1, 0 being 'non-ironic' and 1 'ironic', you tweet scored \", result)\n",
    "    \n",
    "\n"
   ]
  },
  {
   "cell_type": "code",
   "execution_count": null,
   "metadata": {},
   "outputs": [],
   "source": []
  }
 ],
 "metadata": {
  "kernelspec": {
   "display_name": "Python 3",
   "language": "python",
   "name": "python3"
  },
  "language_info": {
   "codemirror_mode": {
    "name": "ipython",
    "version": 3
   },
   "file_extension": ".py",
   "mimetype": "text/x-python",
   "name": "python",
   "nbconvert_exporter": "python",
   "pygments_lexer": "ipython3",
   "version": "3.8.5"
  }
 },
 "nbformat": 4,
 "nbformat_minor": 4
}
