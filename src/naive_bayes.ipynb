{
 "cells": [
  {
   "cell_type": "code",
   "execution_count": 6,
   "metadata": {},
   "outputs": [],
   "source": [
    "import time\n",
    "import seaborn as sns\n",
    "import matplotlib.pyplot as plt\n",
    "from sklearn.pipeline import make_pipeline\n",
    "from sklearn.naive_bayes import MultinomialNB\n",
    "from sklearn.feature_extraction.text import TfidfVectorizer\n",
    "from sklearn.metrics import confusion_matrix, accuracy_score, precision_score, recall_score, f1_score\n",
    "\n",
    "sns.set() # use seaborn plotting style\n",
    "\n",
    "def proccess(trainData, trainScores, testData, testScores, task):\n",
    "    start = time.time()\n",
    "    model = make_pipeline(TfidfVectorizer(), MultinomialNB())\n",
    "    model.fit(trainData, trainScores)\n",
    "    end = time.time()\n",
    "    trainDataProcessTime = end - start\n",
    "    start = time.time()\n",
    "    predictions = model.predict(testData)\n",
    "    end = time.time()\n",
    "    testDataProcessTime = end - start\n",
    "    \n",
    "    if(task == \"A\"):\n",
    "        labels=[\"0\", \"1\"]\n",
    "        print(\"------------ TASK A -------------\")\n",
    "        print(\"---------- NAIVE BAYES ----------\")\n",
    "        print(\"Non-ironic = 0 | Ironic = 1\")\n",
    "    else:\n",
    "        labels=[\"0\", \"1\", \"2\", \"3\"]\n",
    "        print(\"------------ TASK B -------------\")\n",
    "        print(\"---------- NAIVE BAYES ----------\")\n",
    "        print(\"\\n\")\n",
    "        print(\"Non-ironic = 0 | Situationaly ironic = 1 | Ironic without polarity contrast = 2 | Ironic with polarity contrast = 3 \")\n",
    "    \n",
    "    mat = confusion_matrix(testScores, predictions)\n",
    "    sns.heatmap(mat.T, square = True, annot=True, fmt = \"d\", xticklabels=labels,yticklabels=labels)\n",
    "    plt.xlabel(\"Actual irony\")\n",
    "    plt.ylabel(\"Predicted irony\")\n",
    "    plt.show()\n",
    "    print(\"The accuracy is {value:.5f}%\".format(value = accuracy_score(testScores, predictions)))\n",
    "    print(\"The precision is {value:.5f}%\".format(value = precision_score(testScores, predictions, average='weighted')))\n",
    "    print(\"The recall is {value:.5f}%\".format(value = recall_score(testScores, predictions, average='weighted')))\n",
    "    print(\"The f1 is {value:.5f}%\".format(value = f1_score(testScores, predictions, average='weighted')))\n",
    "    print(\"\\n\")\n",
    "    print(\"Time taken to train model: {value:.5f} seconds\".format(value = trainDataProcessTime))\n",
    "    print(\"Time taken to test model: {value:.5f} seconds\".format(value = testDataProcessTime))"
   ]
  },
  {
   "cell_type": "code",
   "execution_count": null,
   "metadata": {},
   "outputs": [],
   "source": []
  }
 ],
 "metadata": {
  "kernelspec": {
   "display_name": "Python 3",
   "language": "python",
   "name": "python3"
  },
  "language_info": {
   "codemirror_mode": {
    "name": "ipython",
    "version": 3
   },
   "file_extension": ".py",
   "mimetype": "text/x-python",
   "name": "python",
   "nbconvert_exporter": "python",
   "pygments_lexer": "ipython3",
   "version": "3.8.5"
  }
 },
 "nbformat": 4,
 "nbformat_minor": 4
}
