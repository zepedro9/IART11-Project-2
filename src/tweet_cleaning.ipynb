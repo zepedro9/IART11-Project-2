{
 "cells": [
  {
   "cell_type": "code",
   "execution_count": 26,
   "metadata": {},
   "outputs": [
    {
     "name": "stdout",
     "output_type": "stream",
     "text": [
      "@asdasd Sweet United Nations video. Just in time for Christmas. #imagine #NoReligion  http://t.co/fej2v3OUBR \n",
      "\n",
      "sweet unit nation video just time christma imagin noreligion\n"
     ]
    }
   ],
   "source": [
    "import re\n",
    "from nltk.stem.porter import PorterStemmer\n",
    "from nltk.corpus import stopwords\n",
    "\n",
    "def clean_tweet(old):\n",
    "    new = remove_identifications(old)\n",
    "    new = remove_links(new)\n",
    "    new = stemming(new)\n",
    "    return new.lower()\n",
    "\n",
    "def remove_identifications(old):\n",
    "    new = \" \".join(filter(lambda x: x[0] != '@', old.split()))\n",
    "    return new\n",
    "\n",
    "def remove_links(old):\n",
    "    return re.sub(\"(https?:\\/\\/)?([\\da-z\\.-]+)\\.([a-z\\.]{2,6})([\\/\\w \\.-]*)\", \"\", old)\n",
    "\n",
    "def stemming(old):\n",
    "    ps = PorterStemmer()\n",
    "    new = re.sub('[^a-zA-Z]', ' ', old)\n",
    "    new = new.split()\n",
    "    new = ' '.join([ps.stem(w) for w in new if not w in set(stopwords.words('english'))])\n",
    "    return new"
   ]
  },
  {
   "cell_type": "code",
   "execution_count": null,
   "metadata": {},
   "outputs": [],
   "source": []
  },
  {
   "cell_type": "code",
   "execution_count": null,
   "metadata": {},
   "outputs": [],
   "source": []
  },
  {
   "cell_type": "code",
   "execution_count": null,
   "metadata": {},
   "outputs": [],
   "source": []
  }
 ],
 "metadata": {
  "kernelspec": {
   "display_name": "Python 3",
   "language": "python",
   "name": "python3"
  },
  "language_info": {
   "codemirror_mode": {
    "name": "ipython",
    "version": 3
   },
   "file_extension": ".py",
   "mimetype": "text/x-python",
   "name": "python",
   "nbconvert_exporter": "python",
   "pygments_lexer": "ipython3",
   "version": "3.8.5"
  }
 },
 "nbformat": 4,
 "nbformat_minor": 4
}
